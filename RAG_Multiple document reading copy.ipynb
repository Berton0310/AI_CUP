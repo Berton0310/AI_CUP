{
 "cells": [
  {
   "cell_type": "code",
   "execution_count": 1,
   "metadata": {},
   "outputs": [],
   "source": [
    "from langchain import HuggingFacePipeline\n",
    "from langchain.chains import RetrievalQA #构建对话系统\n",
    "from langchain.embeddings import HuggingFaceEmbeddings #矢量化\n",
    "from langchain.vectorstores import Chroma #Chroma 向量数据库\n",
    "from time import time"
   ]
  },
  {
   "cell_type": "code",
   "execution_count": 2,
   "metadata": {},
   "outputs": [],
   "source": [
    "# 定義 Document 類型\n",
    "class Document:\n",
    "    \n",
    "    def __init__(self, page_content, metadata):\n",
    "        self.page_content = page_content\n",
    "        self.metadata = metadata\n",
    "\n",
    "    def __repr__(self):\n",
    "        return f\"Document(page_content={self.page_content}, metadata={self.metadata})\""
   ]
  },
  {
   "cell_type": "code",
   "execution_count": 18,
   "metadata": {},
   "outputs": [
    {
     "name": "stdout",
     "output_type": "stream",
     "text": [
      "Document(page_content=網路銀行買/賣外幣的累計交易額度限制是多少?,等值新臺幣五十萬元。, metadata={'source': 'faq101.txt', 'page': 3})\n"
     ]
    }
   ],
   "source": [
    "import os\n",
    "\n",
    "# 設定文件資料夾路徑\n",
    "folder_path = \"faq_txt\"  # 包含多個處理過的保單資料的文件夾\n",
    "\n",
    "result = []\n",
    "\n",
    "# 遍歷所有文件\n",
    "for filename in os.listdir(folder_path):\n",
    "    if filename.endswith(\".txt\"):\n",
    "        file_path = os.path.join(folder_path, filename)\n",
    "\n",
    "        # 讀取每個文件內容\n",
    "        with open(file_path, 'r', encoding='utf-8') as file:\n",
    "            content = file.read()\n",
    "\n",
    "        # 進行分割\n",
    "        sections = content.split(\"\\n\\n\")\n",
    "\n",
    "        # 將每個段落嵌入並存入result列表\n",
    "        for i, section in enumerate(sections, start=1):\n",
    "            if section:\n",
    "                # 包含文檔來源和頁碼信息\n",
    "                result.append(Document(page_content=section, metadata={\"source\": filename, \"page\": i}))\n",
    "\n"
   ]
  },
  {
   "cell_type": "code",
   "execution_count": 4,
   "metadata": {},
   "outputs": [
    {
     "data": {
      "text/plain": [
       "1624"
      ]
     },
     "execution_count": 4,
     "metadata": {},
     "output_type": "execute_result"
    }
   ],
   "source": [
    "len(result)"
   ]
  },
  {
   "cell_type": "code",
   "execution_count": 5,
   "metadata": {},
   "outputs": [
    {
     "name": "stderr",
     "output_type": "stream",
     "text": [
      "C:\\Users\\berto\\AppData\\Local\\Temp\\ipykernel_5624\\2771186886.py:5: LangChainDeprecationWarning: The class `HuggingFaceEmbeddings` was deprecated in LangChain 0.2.2 and will be removed in 1.0. An updated version of the class exists in the :class:`~langchain-huggingface package and should be used instead. To use it run `pip install -U :class:`~langchain-huggingface` and import as `from :class:`~langchain_huggingface import HuggingFaceEmbeddings``.\n",
      "  embedding = HuggingFaceEmbeddings(model_name=model_name,model_kwargs=model_kwargs)\n",
      "c:\\Users\\berto\\AppData\\Local\\Programs\\Python\\Python312\\Lib\\site-packages\\sentence_transformers\\cross_encoder\\CrossEncoder.py:13: TqdmExperimentalWarning: Using `tqdm.autonotebook.tqdm` in notebook mode. Use `tqdm.tqdm` instead to force console mode (e.g. in jupyter console)\n",
      "  from tqdm.autonotebook import tqdm, trange\n"
     ]
    }
   ],
   "source": [
    "# 加载embedings 向量模型\n",
    "# https://huggingface.co/DMetaSoul/Dmeta-embedding-zh\n",
    "model_name = \"DMetaSoul/Dmeta-embedding-zh\"\n",
    "model_kwargs = {'device': 'cuda'}\n",
    "embedding = HuggingFaceEmbeddings(model_name=model_name,model_kwargs=model_kwargs)"
   ]
  },
  {
   "cell_type": "code",
   "execution_count": 6,
   "metadata": {},
   "outputs": [
    {
     "name": "stdout",
     "output_type": "stream",
     "text": [
      "2.5.0+cu124\n",
      "True\n"
     ]
    }
   ],
   "source": [
    "import torch\n",
    "print(torch.__version__)\n",
    "print(torch.cuda.is_available())"
   ]
  },
  {
   "cell_type": "markdown",
   "metadata": {},
   "source": []
  },
  {
   "cell_type": "code",
   "execution_count": 7,
   "metadata": {},
   "outputs": [],
   "source": [
    "model_name1 = \"TencentBAC/Conan-embedding-v1\"\n",
    "model_kwargs1 = {'device': 'cuda'}\n",
    "embedding1 = HuggingFaceEmbeddings(model_name=model_name1,model_kwargs=model_kwargs1)"
   ]
  },
  {
   "cell_type": "code",
   "execution_count": 8,
   "metadata": {},
   "outputs": [],
   "source": [
    "#灌库\n",
    "vectordb = Chroma.from_documents(documents=result, embedding=embedding, persist_directory=\"faq_Dmeta2\")"
   ]
  },
  {
   "cell_type": "code",
   "execution_count": 90,
   "metadata": {},
   "outputs": [
    {
     "name": "stdout",
     "output_type": "stream",
     "text": [
      "source:138\n",
      "(Document(metadata={'page': 1, 'source': 'faq138.txt'}, page_content='如何申請玉山e指信貸?,可以透過以下方式申請本行個人信用貸款：\\\\n\\\\n-點選本行官網/行動銀行「信貸線上申請」服務，可快速、簡便完成貸款申請，免跑分行。\\\\n-點選本行官網專人與我聯絡(https://www.esunbank.com/zh-tw/personal/loan/tools/apply/personal-credit-loan)，留下聯繫資料，由專人為您服務。\\\\n-使用本行行動銀行APP中「貸款專區」，進行簡便、快速的線上申請。\\\\n-至本行全省各分行洽詢，由專人為您服務。。'), 0.3171129822731018)\n"
     ]
    }
   ],
   "source": [
    "# 指定只能找最近的2個搜尋結果 單一問題召回結果\n",
    "#retriever = vectordb.similarity_search_with_score(search_kwargs={'k': 10})\n",
    "docs2 = vectordb.similarity_search_with_score(query='誰可以申辦玉山e指信貸',k=1) # 找出與問題最相關的解答(餘弦計算，score越低=越相似)\n",
    "d = []\n",
    "for i in range(len(docs2)):\n",
    "    \n",
    "    # 從元組中提取 Document 物件\n",
    "    document = docs2[i][0]\n",
    "    # 從 metadata 中獲取 source\n",
    "    source = document.metadata['source']\n",
    "    # 使用字串處理，移除 'faq' 和 '.txt'\n",
    "    faq_number = source.replace('faq', '').replace('.txt', '')\n",
    "    d.append(faq_number)\n",
    "    print(f'source:{faq_number}')  # 輸出: 414\n",
    "\n",
    "#print(d)\n",
    "for i in range(len(docs2)):\n",
    "    print(docs2[i])\n",
    "\n",
    "# import json\n",
    "# with open('questions_example.json','r',encoding = 'utf-8') as f:\n",
    "#     f1 = json.load(f)\n",
    "# with open('ground_truths_example.json','r',encoding = 'utf-8') as f2:\n",
    "#     f3 = json.load(f2)\n",
    "# c = 0\n",
    "# for i in range(101,151):\n",
    "#     d = []\n",
    "#     qu = ''\n",
    "#     for j in f1['questions']:\n",
    "#         if j['qid'] == i:\n",
    "#             qu = qu +str (j['query'])\n",
    "#             docs2 = vectordb.similarity_search_with_score(query= str(j['query']) ,k=5) \n",
    "#             document = docs2[0][0]\n",
    "#             # 從 metadata 中獲取 source\n",
    "#             source = document.metadata['source']\n",
    "#             # 使用字串處理，移除 'faq' 和 '.txt'\n",
    "#             faq_number = source.replace('faq', '').replace('.txt', '')\n",
    "#             d.append(faq_number)\n",
    "#             #print(d[0])\n",
    "#             #print(faq_number)\n",
    "#     for k in f3[\"ground_truths\"]:\n",
    "#         if k['qid'] == i:\n",
    "#             n = k['retrieve']\n",
    "#     #print(n)\n",
    "#     if str(n) == d[0]:\n",
    "#         c += 1\n",
    "#     else:\n",
    "#         print(f\"qid:{i},question{qu},Correct:{n},Right:{d[0]},\")\n",
    "# print(c)  \n",
    "           \n",
    "    "
   ]
  },
  {
   "cell_type": "code",
   "execution_count": 91,
   "metadata": {},
   "outputs": [
    {
     "name": "stdout",
     "output_type": "stream",
     "text": [
      "qid:111,question無卡提款服務是否可在ATM 機器上開通？,Correct:76,Right:149,\n",
      "qid:121,question有哪些方法可以手動檢查WebATM元件的安裝狀態？,Correct:414,Right:448,\n",
      "qid:135,question誰可以申辦玉山e指信貸,Correct:28,Right:138,\n",
      "qid:138,question要怎麼開通簡訊密碼?,Correct:339,Right:463,\n",
      "46\n"
     ]
    }
   ],
   "source": [
    "#查看RAG準確率\n",
    "import json\n",
    "with open('questions_example.json','r',encoding = 'utf-8') as f:\n",
    "    f1 = json.load(f)\n",
    "with open('ground_truths_example.json','r',encoding = 'utf-8') as f2:\n",
    "    f3 = json.load(f2)\n",
    "c = 0\n",
    "for i in range(101,151):\n",
    "    d = []\n",
    "    qu = ''\n",
    "    for j in f1['questions']:\n",
    "        if j['qid'] == i:\n",
    "            qu = qu +str (j['query'])\n",
    "            docs2 = vectordb.similarity_search_with_score(query= str(j['query']) ,k=5) \n",
    "            document = docs2[0][0]\n",
    "            # 從 metadata 中獲取 source\n",
    "            source = document.metadata['source']\n",
    "            # 使用字串處理，移除 'faq' 和 '.txt'\n",
    "            faq_number = source.replace('faq', '').replace('.txt', '')\n",
    "            d.append(faq_number)\n",
    "            #print(d[0])\n",
    "            #print(faq_number)\n",
    "    for k in f3[\"ground_truths\"]:\n",
    "        if k['qid'] == i:\n",
    "            n = k['retrieve']\n",
    "    #print(n)\n",
    "    if str(n) == d[0]:\n",
    "        c += 1\n",
    "    else:\n",
    "        print(f\"qid:{i},question{qu},Correct:{n},Right:{d[0]},\")\n",
    "print(c)  "
   ]
  },
  {
   "cell_type": "code",
   "execution_count": 105,
   "metadata": {},
   "outputs": [
    {
     "name": "stdout",
     "output_type": "stream",
     "text": [
      "<class 'dict'>\n",
      "{'ground_truths': [{'qid': 1, 'retrieve': '', 'retrive': 'insurance'}, {'qid': 2, 'retrieve': '', 'retrive': 'insurance'}, {'qid': 3, 'retrieve': '', 'retrive': 'insurance'}, {'qid': 4, 'retrieve': '', 'retrive': 'fiance'}, {'qid': 5, 'retrieve': '', 'retrive': 'fiance'}, {'qid': 6, 'retrieve': '', 'retrive': 'fiance'}, {'qid': 7, 'retrieve': '', 'retrive': 'fiance'}, {'qid': 8, 'retrieve': '', 'retrive': 'faq'}, {'qid': 9, 'retrieve': '', 'retrive': 'faq'}, {'qid': 10, 'retrieve': '', 'retrive': 'faq'}]}\n",
      "write ok\n"
     ]
    }
   ],
   "source": [
    "\n",
    "# import json\n",
    "# with open('questions_example.json','r',encoding = 'utf-8') as f:\n",
    "#     f1 = json.load(f)\n",
    "# with open('ground_truths_example.json','r',encoding = 'utf-8') as f2:\n",
    "#     f3 = json.load(f2)\n",
    "# c = 0\n",
    "# for i in range(101,151):\n",
    "#     d = []\n",
    "#     qu = ''\n",
    "#     for j in f1['questions']:\n",
    "#         if j['qid'] == i:\n",
    "#             qu = qu +str (j['query'])\n",
    "#             docs2 = vectordb.similarity_search_with_score(query= str(j['query']) ,k=5) \n",
    "#             document = docs2[0][0]\n",
    "#             # 從 metadata 中獲取 source\n",
    "#             source = document.metadata['source']\n",
    "#             # 使用字串處理，移除 'faq' 和 '.txt'\n",
    "#             faq_number = source.replace('faq', '').replace('.txt', '')\n",
    "#             d.append(faq_number)\n",
    "#             #print(d[0])\n",
    "#             #print(faq_number)\n",
    "#     for k in f3[\"ground_truths\"]:\n",
    "#         if k['qid'] == i:\n",
    "#             n = k['retrieve']\n",
    "#     #print(n)\n",
    "#     if str(n) == d[0]:\n",
    "#         c += 1\n",
    "#     else:\n",
    "#         print(f\"qid:{i},question{qu},Correct:{n},Right:{d[0]},\")\n",
    "# print(c) \n",
    "data_json = {\"ground_truths\":[{\"qid\":i,\"retrieve\":\"\",'category':\"\"}for i in range(1,11)]}\n",
    "for m in range(0,10):\n",
    "    if 2 >= m>= 0:\n",
    "        k = \"insurance\"\n",
    "    elif 6>=m >=3:\n",
    "        k = 'fiance'\n",
    "    else:\n",
    "        k = 'faq'\n",
    "    data_json['ground_truths'][m][\"category\"] = k\n",
    "print(type(data_json))\n",
    "print(data_json)\n",
    "with open('output.json', 'w', encoding='utf-8') as f:\n",
    "    json.dump(data_json, f, ensure_ascii=False, indent=4)\n",
    "    print('write ok')"
   ]
  },
  {
   "cell_type": "code",
   "execution_count": 10,
   "metadata": {},
   "outputs": [],
   "source": [
    "# #灌库\n",
    "# vectordb2 = Chroma.from_documents(documents=result, embedding=embedding1, persist_directory=\"faq_Dmeta2\")"
   ]
  },
  {
   "cell_type": "code",
   "execution_count": 68,
   "metadata": {},
   "outputs": [
    {
     "ename": "NameError",
     "evalue": "name 'vectordb2' is not defined",
     "output_type": "error",
     "traceback": [
      "\u001b[1;31m---------------------------------------------------------------------------\u001b[0m",
      "\u001b[1;31mNameError\u001b[0m                                 Traceback (most recent call last)",
      "Cell \u001b[1;32mIn[68], line 3\u001b[0m\n\u001b[0;32m      1\u001b[0m \u001b[38;5;66;03m# 指定只能找最近的2個搜尋結果\u001b[39;00m\n\u001b[0;32m      2\u001b[0m \u001b[38;5;66;03m#retriever = vectordb.similarity_search_with_score(search_kwargs={'k': 10})\u001b[39;00m\n\u001b[1;32m----> 3\u001b[0m docs2 \u001b[38;5;241m=\u001b[39m \u001b[43mvectordb2\u001b[49m\u001b[38;5;241m.\u001b[39msimilarity_search_with_score(query\u001b[38;5;241m=\u001b[39m\u001b[38;5;124m'\u001b[39m\u001b[38;5;124m如何檢查WebATM元件的安裝狀態是否成功？\u001b[39m\u001b[38;5;124m'\u001b[39m,k\u001b[38;5;241m=\u001b[39m\u001b[38;5;241m5\u001b[39m) \n\u001b[0;32m      5\u001b[0m \u001b[38;5;28;01mfor\u001b[39;00m i \u001b[38;5;129;01min\u001b[39;00m \u001b[38;5;28mrange\u001b[39m(\u001b[38;5;28mlen\u001b[39m(docs2)):\n\u001b[0;32m      6\u001b[0m     \u001b[38;5;28mprint\u001b[39m(docs2[i])\n",
      "\u001b[1;31mNameError\u001b[0m: name 'vectordb2' is not defined"
     ]
    }
   ],
   "source": [
    "# # 指定只能找最近的2個搜尋結果\n",
    "# #retriever = vectordb.similarity_search_with_score(search_kwargs={'k': 10})\n",
    "# docs2 = vectordb2.similarity_search_with_score(query='如何檢查WebATM元件的安裝狀態是否成功？',k=5) \n",
    "\n",
    "# for i in range(len(docs2)):\n",
    "#     print(docs2[i])"
   ]
  }
 ],
 "metadata": {
  "kernelspec": {
   "display_name": "Python 3",
   "language": "python",
   "name": "python3"
  },
  "language_info": {
   "codemirror_mode": {
    "name": "ipython",
    "version": 3
   },
   "file_extension": ".py",
   "mimetype": "text/x-python",
   "name": "python",
   "nbconvert_exporter": "python",
   "pygments_lexer": "ipython3",
   "version": "3.12.7"
  }
 },
 "nbformat": 4,
 "nbformat_minor": 2
}
